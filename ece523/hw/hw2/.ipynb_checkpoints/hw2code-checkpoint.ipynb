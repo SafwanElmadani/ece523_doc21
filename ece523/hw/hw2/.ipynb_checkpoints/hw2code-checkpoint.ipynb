{
 "cells": [
  {
   "cell_type": "code",
   "execution_count": 1,
   "metadata": {},
   "outputs": [],
   "source": [
    "import numpy as np\n",
    "import matplotlib.pyplot as plt\n",
    "import pandas as pd\n",
    "from sklearn.model_selection import train_test_split\n",
    "import matplotlib.pyplot as plt\n",
    "import numpy as np\n",
    "from matplotlib import cm\n",
    "import matplotlib.mlab as ml\n",
    "from scipy.interpolate import griddata"
   ]
  },
  {
   "cell_type": "markdown",
   "metadata": {},
   "source": [
    "# HW2 Q2\n",
    "### Using real data from https://github.com/gditzler/UA-ECE-523-Sp2018/tree/master/data"
   ]
  },
  {
   "cell_type": "code",
   "execution_count": 2,
   "metadata": {},
   "outputs": [],
   "source": [
    "path = '/home/safwan/Documents/spring2021/ece523/hw/hw2/acute-nephritis.csv'\n",
    "data_pd = pd.read_csv(path, header=None)   "
   ]
  },
  {
   "cell_type": "code",
   "execution_count": 3,
   "metadata": {},
   "outputs": [
    {
     "data": {
      "text/html": [
       "<div>\n",
       "<style scoped>\n",
       "    .dataframe tbody tr th:only-of-type {\n",
       "        vertical-align: middle;\n",
       "    }\n",
       "\n",
       "    .dataframe tbody tr th {\n",
       "        vertical-align: top;\n",
       "    }\n",
       "\n",
       "    .dataframe thead th {\n",
       "        text-align: right;\n",
       "    }\n",
       "</style>\n",
       "<table border=\"1\" class=\"dataframe\">\n",
       "  <thead>\n",
       "    <tr style=\"text-align: right;\">\n",
       "      <th></th>\n",
       "      <th>0</th>\n",
       "      <th>1</th>\n",
       "      <th>2</th>\n",
       "      <th>3</th>\n",
       "      <th>4</th>\n",
       "      <th>5</th>\n",
       "      <th>6</th>\n",
       "    </tr>\n",
       "  </thead>\n",
       "  <tbody>\n",
       "    <tr>\n",
       "      <th>0</th>\n",
       "      <td>-1.77236</td>\n",
       "      <td>-0.562162</td>\n",
       "      <td>0.841625</td>\n",
       "      <td>-1.408310</td>\n",
       "      <td>-0.979364</td>\n",
       "      <td>-0.841625</td>\n",
       "      <td>0</td>\n",
       "    </tr>\n",
       "    <tr>\n",
       "      <th>1</th>\n",
       "      <td>-1.55248</td>\n",
       "      <td>-0.562162</td>\n",
       "      <td>-1.178280</td>\n",
       "      <td>0.704154</td>\n",
       "      <td>1.012560</td>\n",
       "      <td>1.178280</td>\n",
       "      <td>0</td>\n",
       "    </tr>\n",
       "    <tr>\n",
       "      <th>2</th>\n",
       "      <td>-1.55248</td>\n",
       "      <td>-0.562162</td>\n",
       "      <td>0.841625</td>\n",
       "      <td>-1.408310</td>\n",
       "      <td>-0.979364</td>\n",
       "      <td>-0.841625</td>\n",
       "      <td>0</td>\n",
       "    </tr>\n",
       "    <tr>\n",
       "      <th>3</th>\n",
       "      <td>-1.49751</td>\n",
       "      <td>-0.562162</td>\n",
       "      <td>-1.178280</td>\n",
       "      <td>0.704154</td>\n",
       "      <td>1.012560</td>\n",
       "      <td>1.178280</td>\n",
       "      <td>0</td>\n",
       "    </tr>\n",
       "    <tr>\n",
       "      <th>4</th>\n",
       "      <td>-1.49751</td>\n",
       "      <td>-0.562162</td>\n",
       "      <td>0.841625</td>\n",
       "      <td>-1.408310</td>\n",
       "      <td>-0.979364</td>\n",
       "      <td>-0.841625</td>\n",
       "      <td>0</td>\n",
       "    </tr>\n",
       "    <tr>\n",
       "      <th>...</th>\n",
       "      <td>...</td>\n",
       "      <td>...</td>\n",
       "      <td>...</td>\n",
       "      <td>...</td>\n",
       "      <td>...</td>\n",
       "      <td>...</td>\n",
       "      <td>...</td>\n",
       "    </tr>\n",
       "    <tr>\n",
       "      <th>115</th>\n",
       "      <td>1.47094</td>\n",
       "      <td>-0.562162</td>\n",
       "      <td>0.841625</td>\n",
       "      <td>0.704154</td>\n",
       "      <td>-0.979364</td>\n",
       "      <td>1.178280</td>\n",
       "      <td>1</td>\n",
       "    </tr>\n",
       "    <tr>\n",
       "      <th>116</th>\n",
       "      <td>1.52591</td>\n",
       "      <td>-0.562162</td>\n",
       "      <td>-1.178280</td>\n",
       "      <td>-1.408310</td>\n",
       "      <td>-0.979364</td>\n",
       "      <td>-0.841625</td>\n",
       "      <td>0</td>\n",
       "    </tr>\n",
       "    <tr>\n",
       "      <th>117</th>\n",
       "      <td>1.52591</td>\n",
       "      <td>1.764020</td>\n",
       "      <td>0.841625</td>\n",
       "      <td>-1.408310</td>\n",
       "      <td>1.012560</td>\n",
       "      <td>-0.841625</td>\n",
       "      <td>1</td>\n",
       "    </tr>\n",
       "    <tr>\n",
       "      <th>118</th>\n",
       "      <td>1.52591</td>\n",
       "      <td>-0.562162</td>\n",
       "      <td>0.841625</td>\n",
       "      <td>0.704154</td>\n",
       "      <td>-0.979364</td>\n",
       "      <td>1.178280</td>\n",
       "      <td>1</td>\n",
       "    </tr>\n",
       "    <tr>\n",
       "      <th>119</th>\n",
       "      <td>1.52591</td>\n",
       "      <td>-0.562162</td>\n",
       "      <td>0.841625</td>\n",
       "      <td>0.704154</td>\n",
       "      <td>-0.979364</td>\n",
       "      <td>1.178280</td>\n",
       "      <td>1</td>\n",
       "    </tr>\n",
       "  </tbody>\n",
       "</table>\n",
       "<p>120 rows × 7 columns</p>\n",
       "</div>"
      ],
      "text/plain": [
       "           0         1         2         3         4         5  6\n",
       "0   -1.77236 -0.562162  0.841625 -1.408310 -0.979364 -0.841625  0\n",
       "1   -1.55248 -0.562162 -1.178280  0.704154  1.012560  1.178280  0\n",
       "2   -1.55248 -0.562162  0.841625 -1.408310 -0.979364 -0.841625  0\n",
       "3   -1.49751 -0.562162 -1.178280  0.704154  1.012560  1.178280  0\n",
       "4   -1.49751 -0.562162  0.841625 -1.408310 -0.979364 -0.841625  0\n",
       "..       ...       ...       ...       ...       ...       ... ..\n",
       "115  1.47094 -0.562162  0.841625  0.704154 -0.979364  1.178280  1\n",
       "116  1.52591 -0.562162 -1.178280 -1.408310 -0.979364 -0.841625  0\n",
       "117  1.52591  1.764020  0.841625 -1.408310  1.012560 -0.841625  1\n",
       "118  1.52591 -0.562162  0.841625  0.704154 -0.979364  1.178280  1\n",
       "119  1.52591 -0.562162  0.841625  0.704154 -0.979364  1.178280  1\n",
       "\n",
       "[120 rows x 7 columns]"
      ]
     },
     "execution_count": 3,
     "metadata": {},
     "output_type": "execute_result"
    }
   ],
   "source": [
    "data_pd"
   ]
  },
  {
   "cell_type": "code",
   "execution_count": 4,
   "metadata": {},
   "outputs": [],
   "source": [
    "#seperating the features and labels.\n",
    "x = data_pd.iloc[:, 0:-1]\n",
    "y = data_pd.iloc[:, -1]\n",
    "#conveting to array\n",
    "x_arr = x.values\n",
    "y_arr = y.values"
   ]
  },
  {
   "cell_type": "code",
   "execution_count": 5,
   "metadata": {},
   "outputs": [],
   "source": [
    "# Adding 1 at the begining of every feature vector\n",
    "x_arr = np.c_[np.ones((x_arr.shape[0], 1)), x_arr]\n",
    "y_arr = y_arr[:, np.newaxis]\n",
    "w = np.zeros((x_arr.shape[1],1)) #initializing the parameter vector w."
   ]
  },
  {
   "cell_type": "code",
   "execution_count": 37,
   "metadata": {},
   "outputs": [],
   "source": [
    "#creating training test date\n",
    "X_train, X_test, y_train, y_test = \\\n",
    "                    train_test_split(x_arr, y_arr, test_size=0.20)"
   ]
  },
  {
   "cell_type": "code",
   "execution_count": 38,
   "metadata": {},
   "outputs": [],
   "source": [
    "#creating the logistic function\n",
    "def logistic_func(w, x):\n",
    "    #x is a feature vector\n",
    "    #w is the parameter vector\n",
    "    regression = np.dot(x, w) #finding weighted sum of inputs\n",
    "    result = 1 / (1 + np.exp(- regression))\n",
    "    return result"
   ]
  },
  {
   "cell_type": "code",
   "execution_count": 39,
   "metadata": {},
   "outputs": [],
   "source": [
    "#creating cross entropy function\n",
    "def cross_entropy_func(w , x, y):\n",
    "    result = - np.sum (y * np.log(logistic_func(w,x)) + (1-y)* np.log(1- logistic_func(w,x)))\n",
    "    return result"
   ]
  },
  {
   "cell_type": "code",
   "execution_count": 40,
   "metadata": {},
   "outputs": [],
   "source": [
    "#gradient function\n",
    "def gradient_func(w, x, y, learning_rate):\n",
    "    result = np.dot(x.T, logistic_func(w, x) - y)\n",
    "    return learning_rate * result\n",
    "    "
   ]
  },
  {
   "cell_type": "code",
   "execution_count": 41,
   "metadata": {},
   "outputs": [],
   "source": [
    "#gradient descent function\n",
    "def sgd(w,x,y,iterations, learning_rate):\n",
    "    m = len(y) # size of the training dataset\n",
    "    cost_history = []\n",
    "    for _ in range(iterations):\n",
    "        \n",
    "        for j in range(m): #loop through every sample\n",
    "            x_i = x[1,:].reshape((1,len(w)))\n",
    "            y_i = y[1,:].reshape((1,1))\n",
    "            w = w - gradient_func(w,x_i,y_i, learning_rate)\n",
    "            cost = cross_entropy_func(w, x_i, y_i)\n",
    "        cost_history.append(cost)\n",
    "        \n",
    "    return w, cost_history"
   ]
  },
  {
   "cell_type": "code",
   "execution_count": null,
   "metadata": {},
   "outputs": [],
   "source": []
  },
  {
   "cell_type": "code",
   "execution_count": 42,
   "metadata": {},
   "outputs": [],
   "source": [
    "#testing the model\n",
    "train = sgd(w, X_train, y_train,500, 0.005)"
   ]
  },
  {
   "cell_type": "code",
   "execution_count": 43,
   "metadata": {},
   "outputs": [
    {
     "data": {
      "text/plain": [
       "array([[0.86030556],\n",
       "       [0.93441229],\n",
       "       [1.51759622],\n",
       "       [0.72405467],\n",
       "       [0.6057876 ],\n",
       "       [0.871111  ],\n",
       "       [1.01368084]])"
      ]
     },
     "execution_count": 43,
     "metadata": {},
     "output_type": "execute_result"
    }
   ],
   "source": [
    "#the optimized parameters \n",
    "w_t = train[0]\n",
    "w_t"
   ]
  },
  {
   "cell_type": "code",
   "execution_count": 44,
   "metadata": {},
   "outputs": [
    {
     "data": {
      "text/plain": [
       "[0.2267844997750445,\n",
       " 0.12419529120361983,\n",
       " 0.08384644412720996,\n",
       " 0.06284558529725653,\n",
       " 0.0500969894039993,\n",
       " 0.041576957340538706,\n",
       " 0.03549744285766436,\n",
       " 0.030948776299568707,\n",
       " 0.027421255026845663,\n",
       " 0.024607842100965876]"
      ]
     },
     "execution_count": 44,
     "metadata": {},
     "output_type": "execute_result"
    }
   ],
   "source": [
    "#showing some values of the cost function\n",
    "train[1][:10]"
   ]
  },
  {
   "cell_type": "code",
   "execution_count": 45,
   "metadata": {},
   "outputs": [],
   "source": [
    "#testing with new data\n",
    "predict = logistic_func(w_t, X_test)\n",
    "# predict"
   ]
  },
  {
   "cell_type": "code",
   "execution_count": 46,
   "metadata": {},
   "outputs": [
    {
     "data": {
      "text/plain": [
       "83.33333333333334"
      ]
     },
     "execution_count": 46,
     "metadata": {},
     "output_type": "execute_result"
    }
   ],
   "source": [
    "#finding the accuracy\n",
    "for i in range(len(predict)):\n",
    "    if predict[i] >= 0.5:\n",
    "        predict[i] = 1\n",
    "    else:\n",
    "        predict[i] = 0\n",
    "# predict= 0 \n",
    "diff = predict - y_test\n",
    "accuracy = (1.0 - (float(np.count_nonzero(diff)) / len(diff)))*100\n",
    "accuracy"
   ]
  },
  {
   "cell_type": "code",
   "execution_count": 16,
   "metadata": {},
   "outputs": [],
   "source": [
    "# predict.shape"
   ]
  },
  {
   "cell_type": "markdown",
   "metadata": {},
   "source": [
    "# HW2 Q3\n",
    "### Density estimation"
   ]
  },
  {
   "cell_type": "code",
   "execution_count": 17,
   "metadata": {},
   "outputs": [],
   "source": [
    "#generating training dataset\n",
    "def gen_cb(N, a, alpha): \n",
    "    \"\"\"\n",
    "    N: number of points on the checkerboard\n",
    "    a: width of the checker board (0<a<1)\n",
    "    alpha: rotation of the checkerboard in radians \n",
    "    \"\"\"\n",
    "    d = np.random.rand(N, 2).T  # THIS IS THE LINE OF CODE THAT IS DIFFERENT\n",
    "    d_transformed = np.array([d[0]*np.cos(alpha)-d[1]*np.sin(alpha), \n",
    "                              d[0]*np.sin(alpha)+d[1]*np.cos(alpha)]).T\n",
    "    s = np.ceil(d_transformed[:,0]/a)+np.floor(d_transformed[:,1]/a)\n",
    "    lab = 2 - (s%2)\n",
    "    data = d.T\n",
    "    return data, lab "
   ]
  },
  {
   "cell_type": "code",
   "execution_count": 18,
   "metadata": {},
   "outputs": [
    {
     "data": {
      "text/plain": [
       "Text(0, 0.5, 'x2')"
      ]
     },
     "execution_count": 18,
     "metadata": {},
     "output_type": "execute_result"
    },
    {
     "data": {
      "image/png": "[encoded data removed]",
      "text/plain": [
       "<Figure size 432x288 with 1 Axes>"
      ]
     },
     "metadata": {
      "needs_background": "light"
     },
     "output_type": "display_data"
    }
   ],
   "source": [
    "X, y = gen_cb(3000, .25, np.pi / 3)\n",
    "plt.figure()\n",
    "plt.plot(X[np.where(y==1)[0], 0], X[np.where(y==1)[0], 1], 'o')\n",
    "plt.plot(X[np.where(y==2)[0], 0], X[np.where(y==2)[0], 1], 's', c = 'r')\n",
    "plt.xlabel(\"x1\")\n",
    "plt.ylabel(\"x2\")"
   ]
  },
  {
   "cell_type": "code",
   "execution_count": 19,
   "metadata": {},
   "outputs": [],
   "source": [
    "#creating a function for implementing k nearest neighbor (knn)\n",
    "def knn(k, X ,y, point):\n",
    "    x1, x2 = X[y==1], X[y==2] #x1blue x2red\n",
    "    n1 = len(x1)\n",
    "    n2 = len(x2)\n",
    "    \n",
    "    dataset = X.tolist()\n",
    "    for i in range(len(dataset)):\n",
    "        dataset[i].append(y[i])\n",
    "    \n",
    "    n=len(dataset)\n",
    "    dist_list = [] \n",
    "    for i in dataset:\n",
    "        dist = np.linalg.norm(point-np.array(i[:-1])) #find the euclidean distance\n",
    "        i.append(dist)\n",
    "    dataset.sort(key=lambda tup: tup[3]) #sort\n",
    "    k_nearest = dataset[:k] #take only the first k elements\n",
    "    largest_k = max(k_nearest, key=lambda x: x[3])\n",
    "    \n",
    "    #now find how many neighbor in class blue 1\n",
    "    k_1 = [x for x in k_nearest if x[2] == 1.0]\n",
    "     \n",
    "    #now find how many neighbor in class blue 2\n",
    "    k_2 = [x for x in k_nearest if x[2] == 2.0]\n",
    "      \n",
    "    #calculating the volume\n",
    "    r = largest_k[-1]\n",
    "    \n",
    "    #radius of the circle\n",
    "    v = np.pi * (r**2)\n",
    "    \n",
    "    #p(x|y=blue)\n",
    "    pb = (len(k_1)/(n1*v))\n",
    "    \n",
    "    #p(x|y=red)\n",
    "    pr = (len(k_2)/(n2*v))\n",
    "    \n",
    "    #p(x)\n",
    "    px= len(k_nearest)/(n*v)\n",
    "    \n",
    "    return pr,pb,px"
   ]
  },
  {
   "cell_type": "markdown",
   "metadata": {},
   "source": [
    "### computing the liklihood"
   ]
  },
  {
   "cell_type": "code",
   "execution_count": 20,
   "metadata": {},
   "outputs": [],
   "source": [
    "x1, x2 = X[y==1], X[y==2] #x1blue x2red\n",
    "#py(blue)\n",
    "p_blue = len(x1)/len(X) \n",
    "#py(red)\n",
    "p_red = len(x2)/len(X)"
   ]
  },
  {
   "cell_type": "markdown",
   "metadata": {},
   "source": [
    "# generating test dataset"
   ]
  },
  {
   "cell_type": "code",
   "execution_count": 21,
   "metadata": {},
   "outputs": [
    {
     "data": {
      "text/plain": [
       "Text(0, 0.5, 'x2')"
      ]
     },
     "execution_count": 21,
     "metadata": {},
     "output_type": "execute_result"
    },
    {
     "data": {
      "image/png": "[encoded data removed]",
      "text/plain": [
       "<Figure size 432x288 with 1 Axes>"
      ]
     },
     "metadata": {
      "needs_background": "light"
     },
     "output_type": "display_data"
    }
   ],
   "source": [
    "X_t, y_t = gen_cb(2000, .25, np.pi / 3)\n",
    "plt.figure()\n",
    "plt.plot(X_t[np.where(y_t==1)[0], 0], X_t[np.where(y_t==1)[0], 1], 'o')\n",
    "plt.plot(X_t[np.where(y_t==2)[0], 0], X_t[np.where(y_t==2)[0], 1], 's', c = 'r')\n",
    "plt.xlabel(\"x1\")\n",
    "plt.ylabel(\"x2\")"
   ]
  },
  {
   "cell_type": "code",
   "execution_count": 22,
   "metadata": {},
   "outputs": [],
   "source": [
    "#testing the model\n",
    "result = X_t.tolist()\n",
    "for i in range(len(X_t)):\n",
    "    px_r,px_b,px = knn(15,X, y, X_t[i,:])\n",
    "    p_1 = px_b*p_blue/px\n",
    "    p_2 = px_r*p_red/px\n",
    "    if p_1 > p_2:\n",
    "        result[i].append(1.0)\n",
    "    else:\n",
    "        result[i].append(2.0)"
   ]
  },
  {
   "cell_type": "code",
   "execution_count": 23,
   "metadata": {},
   "outputs": [],
   "source": [
    "#convert to np array\n",
    "r = np.array(result)\n",
    "x_r = r[:,:2]\n",
    "y_r = r[:,-1]"
   ]
  },
  {
   "cell_type": "code",
   "execution_count": 24,
   "metadata": {},
   "outputs": [],
   "source": [
    "def plot_contour(x,y,z,resolution = 50,contour_method='linear'):\n",
    "    resolution = str(resolution)+'j'\n",
    "    X,Y = np.mgrid[min(x):max(x):complex(resolution),   min(y):max(y):complex(resolution)]\n",
    "    points = [[a,b] for a,b in zip(x,y)]\n",
    "    Z = griddata(points, z, (X, Y), method=contour_method)\n",
    "    return X,Y,Z\n",
    "\n",
    "X,Y,Z = plot_contour(r[:,0],r[:,1],r[:,2],resolution = 50,contour_method='linear')"
   ]
  },
  {
   "cell_type": "code",
   "execution_count": 25,
   "metadata": {},
   "outputs": [
    {
     "data": {
      "image/png": "[encoded data removed]",
      "text/plain": [
       "<Figure size 432x288 with 2 Axes>"
      ]
     },
     "metadata": {
      "needs_background": "light"
     },
     "output_type": "display_data"
    }
   ],
   "source": [
    "#ploting P(x|y)with pcolor\n",
    "plt.pcolor(X,Y, Z, cmap = 'jet')  \n",
    "plt.colorbar() \n",
    "plt.xlabel(\"x1\")\n",
    "plt.ylabel(\"x2\")\n",
    "plt.show()"
   ]
  },
  {
   "cell_type": "code",
   "execution_count": 26,
   "metadata": {},
   "outputs": [
    {
     "data": {
      "text/plain": [
       "Text(0, 0.5, 'x2')"
      ]
     },
     "execution_count": 26,
     "metadata": {},
     "output_type": "execute_result"
    },
    {
     "data": {
      "image/png": "[encoded data removed]",
      "text/plain": [
       "<Figure size 432x288 with 1 Axes>"
      ]
     },
     "metadata": {
      "needs_background": "light"
     },
     "output_type": "display_data"
    }
   ],
   "source": [
    "#ploting P(x|y)with plot\n",
    "plt.plot(x_r[np.where(y_r==1)[0], 0], x_r[np.where(y_r==1)[0], 1], 'o')\n",
    "plt.plot(x_r[np.where(y_r==2)[0], 0], x_r[np.where(y_r==2)[0], 1], 's', c = 'r')\n",
    "plt.xlabel(\"x1\")\n",
    "plt.ylabel(\"x2\")"
   ]
  },
  {
   "cell_type": "code",
   "execution_count": null,
   "metadata": {},
   "outputs": [],
   "source": []
  }
 ],
 "metadata": {
  "kernelspec": {
   "display_name": "Python 3",
   "language": "python",
   "name": "python3"
  },
  "language_info": {
   "codemirror_mode": {
    "name": "ipython",
    "version": 3
   },
   "file_extension": ".py",
   "mimetype": "text/x-python",
   "name": "python",
   "nbconvert_exporter": "python",
   "pygments_lexer": "ipython3",
   "version": "3.8.6"
  }
 },
 "nbformat": 4,
 "nbformat_minor": 4
}
