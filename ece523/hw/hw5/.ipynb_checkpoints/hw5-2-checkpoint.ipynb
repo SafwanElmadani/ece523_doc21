{
 "cells": [
  {
   "cell_type": "code",
   "execution_count": 1,
   "id": "systematic-context",
   "metadata": {},
   "outputs": [],
   "source": [
    "import numpy as np\n",
    "import plotly.express as px\n",
    "import pandas as pd \n",
    "import plotly.graph_objects as go\n",
    "import seaborn as sns\n",
    "import matplotlib.pyplot as plt\n",
    "import math \n",
    "import scipy as sp\n",
    "from sklearn.model_selection import train_test_split\n",
    "from sklearn import svm\n",
    "from sklearn import datasets\n",
    "from sklearn.metrics import zero_one_loss"
   ]
  },
  {
   "cell_type": "markdown",
   "id": "maritime-space",
   "metadata": {},
   "source": [
    "## Generating 2D training dataset with 2 classes¶"
   ]
  },
  {
   "cell_type": "code",
   "execution_count": 35,
   "id": "absent-latter",
   "metadata": {},
   "outputs": [
    {
     "data": {
      "text/html": [
       "<div>\n",
       "<style scoped>\n",
       "    .dataframe tbody tr th:only-of-type {\n",
       "        vertical-align: middle;\n",
       "    }\n",
       "\n",
       "    .dataframe tbody tr th {\n",
       "        vertical-align: top;\n",
       "    }\n",
       "\n",
       "    .dataframe thead th {\n",
       "        text-align: right;\n",
       "    }\n",
       "</style>\n",
       "<table border=\"1\" class=\"dataframe\">\n",
       "  <thead>\n",
       "    <tr style=\"text-align: right;\">\n",
       "      <th></th>\n",
       "      <th>x1</th>\n",
       "      <th>x2</th>\n",
       "      <th>label</th>\n",
       "    </tr>\n",
       "  </thead>\n",
       "  <tbody>\n",
       "    <tr>\n",
       "      <th>0</th>\n",
       "      <td>-0.380980</td>\n",
       "      <td>3.884836</td>\n",
       "      <td>1.0</td>\n",
       "    </tr>\n",
       "    <tr>\n",
       "      <th>1</th>\n",
       "      <td>0.270876</td>\n",
       "      <td>1.778541</td>\n",
       "      <td>1.0</td>\n",
       "    </tr>\n",
       "    <tr>\n",
       "      <th>2</th>\n",
       "      <td>-2.453738</td>\n",
       "      <td>1.025094</td>\n",
       "      <td>0.0</td>\n",
       "    </tr>\n",
       "    <tr>\n",
       "      <th>3</th>\n",
       "      <td>-2.438149</td>\n",
       "      <td>-0.028350</td>\n",
       "      <td>0.0</td>\n",
       "    </tr>\n",
       "    <tr>\n",
       "      <th>4</th>\n",
       "      <td>0.424334</td>\n",
       "      <td>1.802717</td>\n",
       "      <td>1.0</td>\n",
       "    </tr>\n",
       "    <tr>\n",
       "      <th>...</th>\n",
       "      <td>...</td>\n",
       "      <td>...</td>\n",
       "      <td>...</td>\n",
       "    </tr>\n",
       "    <tr>\n",
       "      <th>995</th>\n",
       "      <td>-2.945962</td>\n",
       "      <td>0.282230</td>\n",
       "      <td>0.0</td>\n",
       "    </tr>\n",
       "    <tr>\n",
       "      <th>996</th>\n",
       "      <td>-0.852222</td>\n",
       "      <td>4.062818</td>\n",
       "      <td>1.0</td>\n",
       "    </tr>\n",
       "    <tr>\n",
       "      <th>997</th>\n",
       "      <td>-2.411784</td>\n",
       "      <td>0.366154</td>\n",
       "      <td>0.0</td>\n",
       "    </tr>\n",
       "    <tr>\n",
       "      <th>998</th>\n",
       "      <td>-0.780021</td>\n",
       "      <td>1.435980</td>\n",
       "      <td>1.0</td>\n",
       "    </tr>\n",
       "    <tr>\n",
       "      <th>999</th>\n",
       "      <td>0.020570</td>\n",
       "      <td>2.387932</td>\n",
       "      <td>1.0</td>\n",
       "    </tr>\n",
       "  </tbody>\n",
       "</table>\n",
       "<p>1000 rows × 3 columns</p>\n",
       "</div>"
      ],
      "text/plain": [
       "           x1        x2  label\n",
       "0   -0.380980  3.884836    1.0\n",
       "1    0.270876  1.778541    1.0\n",
       "2   -2.453738  1.025094    0.0\n",
       "3   -2.438149 -0.028350    0.0\n",
       "4    0.424334  1.802717    1.0\n",
       "..        ...       ...    ...\n",
       "995 -2.945962  0.282230    0.0\n",
       "996 -0.852222  4.062818    1.0\n",
       "997 -2.411784  0.366154    0.0\n",
       "998 -0.780021  1.435980    1.0\n",
       "999  0.020570  2.387932    1.0\n",
       "\n",
       "[1000 rows x 3 columns]"
      ]
     },
     "execution_count": 35,
     "metadata": {},
     "output_type": "execute_result"
    }
   ],
   "source": [
    "mu_1=[-2,0]\n",
    "mu_2 = [0,2]\n",
    "cov_1 = [[1, -0.25],[-0.25, 1]]\n",
    "cov_2 = [[1, -0.25],[-0.25, 1]]\n",
    "num_samples= 500\n",
    "\n",
    "w1 =  np.random.multivariate_normal(mu_1, cov_1, num_samples)\n",
    "w2 =  np.random.multivariate_normal(mu_2, cov_2, num_samples)\n",
    "\n",
    "label1 = np.zeros(num_samples).reshape((num_samples,1))\n",
    "label2 = np.zeros(num_samples).reshape((num_samples,1)) +1\n",
    "\n",
    "w1 = np.append(w1, label1, axis=1)\n",
    "w2 = np.append(w2, label2, axis=1)\n",
    "\n",
    "\n",
    "#prior probability is the same for each class\n",
    "prior_p=500/1000\n",
    "#concatenate whole samples in one array \n",
    "train_dataset=np.concatenate([w1,w2])\n",
    "\n",
    "df = pd.DataFrame(train_dataset, columns=['x1', 'x2', 'label'])\n",
    "df = df.sample(frac=1).reset_index(drop=True) # shuffle the dataframe in-place and reset the index\n",
    "df"
   ]
  },
  {
   "cell_type": "code",
   "execution_count": 36,
   "id": "composite-montreal",
   "metadata": {},
   "outputs": [
    {
     "data": {
      "image/png": "[encoded data removed]",
      "text/plain": [
       "<Figure size 432x288 with 1 Axes>"
      ]
     },
     "metadata": {
      "needs_background": "light"
     },
     "output_type": "display_data"
    }
   ],
   "source": [
    "figure1 = plt.figure()\n",
    "plt.scatter(w1[:,0], w1[:,1], color='r', label='Class1')\n",
    "plt.scatter(w2[:,0], w2[:,1], color='g', label='Class2')\n",
    "# plt.rcParams['figure.figsize'] = [20, 20]\n",
    "plt.xlabel('x1') \n",
    "plt.ylabel('x2')\n",
    "plt.legend()\n",
    "# plt.grid()\n",
    "plt.show()"
   ]
  },
  {
   "cell_type": "code",
   "execution_count": 37,
   "id": "appointed-while",
   "metadata": {},
   "outputs": [],
   "source": [
    "df\n",
    "X = df.iloc[:,0:2].values\n",
    "y = df.iloc[:,-1].values"
   ]
  },
  {
   "cell_type": "markdown",
   "id": "framed-rainbow",
   "metadata": {},
   "source": [
    "## Creating training and testing datasets with 80:20 split"
   ]
  },
  {
   "cell_type": "code",
   "execution_count": 38,
   "id": "fallen-subsection",
   "metadata": {},
   "outputs": [],
   "source": [
    "X_train, X_test, y_train, y_test = train_test_split(X, y, train_size=0.8, random_state=1)"
   ]
  },
  {
   "cell_type": "code",
   "execution_count": 39,
   "id": "twenty-female",
   "metadata": {},
   "outputs": [
    {
     "data": {
      "text/plain": [
       "(800, 2)"
      ]
     },
     "execution_count": 39,
     "metadata": {},
     "output_type": "execute_result"
    }
   ],
   "source": [
    "X_train.shape"
   ]
  },
  {
   "cell_type": "markdown",
   "id": "bibliographic-coast",
   "metadata": {},
   "source": [
    "## Part A: 10% of the training data is labeled"
   ]
  },
  {
   "cell_type": "code",
   "execution_count": 40,
   "id": "august-video",
   "metadata": {},
   "outputs": [],
   "source": [
    "#10% of the training data is labeled\n",
    "X_train, X_unl, y_train, _ = train_test_split(X_train, y_train, train_size=0.1, random_state=1)"
   ]
  },
  {
   "cell_type": "code",
   "execution_count": 41,
   "id": "needed-bottle",
   "metadata": {},
   "outputs": [
    {
     "data": {
      "text/plain": [
       "(720, 2)"
      ]
     },
     "execution_count": 41,
     "metadata": {},
     "output_type": "execute_result"
    }
   ],
   "source": [
    "X_unl.shape"
   ]
  },
  {
   "cell_type": "code",
   "execution_count": 42,
   "id": "bright-colleague",
   "metadata": {},
   "outputs": [
    {
     "data": {
      "text/html": [
       "<div>\n",
       "<style scoped>\n",
       "    .dataframe tbody tr th:only-of-type {\n",
       "        vertical-align: middle;\n",
       "    }\n",
       "\n",
       "    .dataframe tbody tr th {\n",
       "        vertical-align: top;\n",
       "    }\n",
       "\n",
       "    .dataframe thead th {\n",
       "        text-align: right;\n",
       "    }\n",
       "</style>\n",
       "<table border=\"1\" class=\"dataframe\">\n",
       "  <thead>\n",
       "    <tr style=\"text-align: right;\">\n",
       "      <th></th>\n",
       "      <th>x1</th>\n",
       "      <th>x2</th>\n",
       "    </tr>\n",
       "  </thead>\n",
       "  <tbody>\n",
       "    <tr>\n",
       "      <th>0</th>\n",
       "      <td>-0.162472</td>\n",
       "      <td>1.843025</td>\n",
       "    </tr>\n",
       "    <tr>\n",
       "      <th>1</th>\n",
       "      <td>-2.202430</td>\n",
       "      <td>-1.832835</td>\n",
       "    </tr>\n",
       "    <tr>\n",
       "      <th>2</th>\n",
       "      <td>-0.392301</td>\n",
       "      <td>-1.230569</td>\n",
       "    </tr>\n",
       "    <tr>\n",
       "      <th>3</th>\n",
       "      <td>-3.410816</td>\n",
       "      <td>-0.358632</td>\n",
       "    </tr>\n",
       "    <tr>\n",
       "      <th>4</th>\n",
       "      <td>-0.495970</td>\n",
       "      <td>1.463370</td>\n",
       "    </tr>\n",
       "    <tr>\n",
       "      <th>...</th>\n",
       "      <td>...</td>\n",
       "      <td>...</td>\n",
       "    </tr>\n",
       "    <tr>\n",
       "      <th>715</th>\n",
       "      <td>1.142499</td>\n",
       "      <td>0.650258</td>\n",
       "    </tr>\n",
       "    <tr>\n",
       "      <th>716</th>\n",
       "      <td>-0.509620</td>\n",
       "      <td>1.222140</td>\n",
       "    </tr>\n",
       "    <tr>\n",
       "      <th>717</th>\n",
       "      <td>1.309253</td>\n",
       "      <td>3.330639</td>\n",
       "    </tr>\n",
       "    <tr>\n",
       "      <th>718</th>\n",
       "      <td>-4.041126</td>\n",
       "      <td>0.053144</td>\n",
       "    </tr>\n",
       "    <tr>\n",
       "      <th>719</th>\n",
       "      <td>-1.401420</td>\n",
       "      <td>0.298887</td>\n",
       "    </tr>\n",
       "  </tbody>\n",
       "</table>\n",
       "<p>720 rows × 2 columns</p>\n",
       "</div>"
      ],
      "text/plain": [
       "           x1        x2\n",
       "0   -0.162472  1.843025\n",
       "1   -2.202430 -1.832835\n",
       "2   -0.392301 -1.230569\n",
       "3   -3.410816 -0.358632\n",
       "4   -0.495970  1.463370\n",
       "..        ...       ...\n",
       "715  1.142499  0.650258\n",
       "716 -0.509620  1.222140\n",
       "717  1.309253  3.330639\n",
       "718 -4.041126  0.053144\n",
       "719 -1.401420  0.298887\n",
       "\n",
       "[720 rows x 2 columns]"
      ]
     },
     "execution_count": 42,
     "metadata": {},
     "output_type": "execute_result"
    }
   ],
   "source": [
    "X_unl_df = pd.DataFrame(X_unl, columns=['x1', 'x2'])\n",
    "X_unl_df"
   ]
  },
  {
   "cell_type": "markdown",
   "id": "arctic-maine",
   "metadata": {},
   "source": [
    "## 1. Training on the labeled dataset"
   ]
  },
  {
   "cell_type": "code",
   "execution_count": 43,
   "id": "identical-locking",
   "metadata": {},
   "outputs": [
    {
     "name": "stdout",
     "output_type": "stream",
     "text": [
      "Accuracy:  0.97  error:  0.030000000000000027\n"
     ]
    }
   ],
   "source": [
    "clf = svm.SVC(kernel='linear', probability=True, C=1.0).fit(X_train, y_train)\n",
    "print ('Accuracy: ',clf.score(X_test, y_test), ' error: ', 1 - clf.score(X_test, y_test) )"
   ]
  },
  {
   "cell_type": "markdown",
   "id": "scheduled-terrace",
   "metadata": {},
   "source": [
    "## 2. Make a prediction using the unlabeled datset (x_unl)\n",
    "* ### Using predict_prob() to find the probability of each sample"
   ]
  },
  {
   "cell_type": "code",
   "execution_count": 44,
   "id": "continued-consensus",
   "metadata": {},
   "outputs": [
    {
     "data": {
      "text/html": [
       "<div>\n",
       "<style scoped>\n",
       "    .dataframe tbody tr th:only-of-type {\n",
       "        vertical-align: middle;\n",
       "    }\n",
       "\n",
       "    .dataframe tbody tr th {\n",
       "        vertical-align: top;\n",
       "    }\n",
       "\n",
       "    .dataframe thead th {\n",
       "        text-align: right;\n",
       "    }\n",
       "</style>\n",
       "<table border=\"1\" class=\"dataframe\">\n",
       "  <thead>\n",
       "    <tr style=\"text-align: right;\">\n",
       "      <th></th>\n",
       "      <th>class1</th>\n",
       "      <th>class2</th>\n",
       "      <th>max</th>\n",
       "      <th>label</th>\n",
       "    </tr>\n",
       "  </thead>\n",
       "  <tbody>\n",
       "    <tr>\n",
       "      <th>0</th>\n",
       "      <td>6.080655e-02</td>\n",
       "      <td>0.939193</td>\n",
       "      <td>0.939193</td>\n",
       "      <td>1.0</td>\n",
       "    </tr>\n",
       "    <tr>\n",
       "      <th>1</th>\n",
       "      <td>9.984301e-01</td>\n",
       "      <td>0.001570</td>\n",
       "      <td>0.998430</td>\n",
       "      <td>0.0</td>\n",
       "    </tr>\n",
       "    <tr>\n",
       "      <th>2</th>\n",
       "      <td>9.049883e-01</td>\n",
       "      <td>0.095012</td>\n",
       "      <td>0.904988</td>\n",
       "      <td>0.0</td>\n",
       "    </tr>\n",
       "    <tr>\n",
       "      <th>3</th>\n",
       "      <td>9.984551e-01</td>\n",
       "      <td>0.001545</td>\n",
       "      <td>0.998455</td>\n",
       "      <td>0.0</td>\n",
       "    </tr>\n",
       "    <tr>\n",
       "      <th>4</th>\n",
       "      <td>1.732832e-01</td>\n",
       "      <td>0.826717</td>\n",
       "      <td>0.826717</td>\n",
       "      <td>1.0</td>\n",
       "    </tr>\n",
       "    <tr>\n",
       "      <th>...</th>\n",
       "      <td>...</td>\n",
       "      <td>...</td>\n",
       "      <td>...</td>\n",
       "      <td>...</td>\n",
       "    </tr>\n",
       "    <tr>\n",
       "      <th>715</th>\n",
       "      <td>3.397656e-02</td>\n",
       "      <td>0.966023</td>\n",
       "      <td>0.966023</td>\n",
       "      <td>1.0</td>\n",
       "    </tr>\n",
       "    <tr>\n",
       "      <th>716</th>\n",
       "      <td>2.353276e-01</td>\n",
       "      <td>0.764672</td>\n",
       "      <td>0.764672</td>\n",
       "      <td>1.0</td>\n",
       "    </tr>\n",
       "    <tr>\n",
       "      <th>717</th>\n",
       "      <td>6.985512e-07</td>\n",
       "      <td>0.999999</td>\n",
       "      <td>0.999999</td>\n",
       "      <td>1.0</td>\n",
       "    </tr>\n",
       "    <tr>\n",
       "      <th>718</th>\n",
       "      <td>9.990992e-01</td>\n",
       "      <td>0.000901</td>\n",
       "      <td>0.999099</td>\n",
       "      <td>0.0</td>\n",
       "    </tr>\n",
       "    <tr>\n",
       "      <th>719</th>\n",
       "      <td>8.610110e-01</td>\n",
       "      <td>0.138989</td>\n",
       "      <td>0.861011</td>\n",
       "      <td>0.0</td>\n",
       "    </tr>\n",
       "  </tbody>\n",
       "</table>\n",
       "<p>720 rows × 4 columns</p>\n",
       "</div>"
      ],
      "text/plain": [
       "           class1    class2       max  label\n",
       "0    6.080655e-02  0.939193  0.939193    1.0\n",
       "1    9.984301e-01  0.001570  0.998430    0.0\n",
       "2    9.049883e-01  0.095012  0.904988    0.0\n",
       "3    9.984551e-01  0.001545  0.998455    0.0\n",
       "4    1.732832e-01  0.826717  0.826717    1.0\n",
       "..            ...       ...       ...    ...\n",
       "715  3.397656e-02  0.966023  0.966023    1.0\n",
       "716  2.353276e-01  0.764672  0.764672    1.0\n",
       "717  6.985512e-07  0.999999  0.999999    1.0\n",
       "718  9.990992e-01  0.000901  0.999099    0.0\n",
       "719  8.610110e-01  0.138989  0.861011    0.0\n",
       "\n",
       "[720 rows x 4 columns]"
      ]
     },
     "execution_count": 44,
     "metadata": {},
     "output_type": "execute_result"
    }
   ],
   "source": [
    "#find the probability of each class\n",
    "clp= clf.predict_proba(X_unl)\n",
    "clf_prob = pd.DataFrame(clp, columns = ['class1', 'class2']) \n",
    "# predict the the label of each class\n",
    "lab=clf.predict(X_unl)\n",
    "#find the max probability \n",
    "clf_prob[\"max\"] = clf_prob.max(axis = 1)\n",
    "clf_prob[\"label\"] = lab\n",
    "clf_prob"
   ]
  },
  {
   "cell_type": "markdown",
   "id": "broken-china",
   "metadata": {},
   "source": [
    "## 3. Choose the samples in X_unl with high confidence and add them into the labeled dataset "
   ]
  },
  {
   "cell_type": "code",
   "execution_count": 45,
   "id": "married-tomato",
   "metadata": {},
   "outputs": [
    {
     "data": {
      "text/html": [
       "<div>\n",
       "<style scoped>\n",
       "    .dataframe tbody tr th:only-of-type {\n",
       "        vertical-align: middle;\n",
       "    }\n",
       "\n",
       "    .dataframe tbody tr th {\n",
       "        vertical-align: top;\n",
       "    }\n",
       "\n",
       "    .dataframe thead th {\n",
       "        text-align: right;\n",
       "    }\n",
       "</style>\n",
       "<table border=\"1\" class=\"dataframe\">\n",
       "  <thead>\n",
       "    <tr style=\"text-align: right;\">\n",
       "      <th></th>\n",
       "      <th>class1</th>\n",
       "      <th>class2</th>\n",
       "      <th>max</th>\n",
       "      <th>label</th>\n",
       "    </tr>\n",
       "  </thead>\n",
       "  <tbody>\n",
       "    <tr>\n",
       "      <th>0</th>\n",
       "      <td>6.080655e-02</td>\n",
       "      <td>0.939193</td>\n",
       "      <td>0.939193</td>\n",
       "      <td>1.0</td>\n",
       "    </tr>\n",
       "    <tr>\n",
       "      <th>1</th>\n",
       "      <td>9.984301e-01</td>\n",
       "      <td>0.001570</td>\n",
       "      <td>0.998430</td>\n",
       "      <td>0.0</td>\n",
       "    </tr>\n",
       "    <tr>\n",
       "      <th>2</th>\n",
       "      <td>9.049883e-01</td>\n",
       "      <td>0.095012</td>\n",
       "      <td>0.904988</td>\n",
       "      <td>0.0</td>\n",
       "    </tr>\n",
       "    <tr>\n",
       "      <th>3</th>\n",
       "      <td>9.984551e-01</td>\n",
       "      <td>0.001545</td>\n",
       "      <td>0.998455</td>\n",
       "      <td>0.0</td>\n",
       "    </tr>\n",
       "    <tr>\n",
       "      <th>4</th>\n",
       "      <td>1.732832e-01</td>\n",
       "      <td>0.826717</td>\n",
       "      <td>0.826717</td>\n",
       "      <td>1.0</td>\n",
       "    </tr>\n",
       "    <tr>\n",
       "      <th>...</th>\n",
       "      <td>...</td>\n",
       "      <td>...</td>\n",
       "      <td>...</td>\n",
       "      <td>...</td>\n",
       "    </tr>\n",
       "    <tr>\n",
       "      <th>715</th>\n",
       "      <td>3.397656e-02</td>\n",
       "      <td>0.966023</td>\n",
       "      <td>0.966023</td>\n",
       "      <td>1.0</td>\n",
       "    </tr>\n",
       "    <tr>\n",
       "      <th>716</th>\n",
       "      <td>2.353276e-01</td>\n",
       "      <td>0.764672</td>\n",
       "      <td>0.764672</td>\n",
       "      <td>1.0</td>\n",
       "    </tr>\n",
       "    <tr>\n",
       "      <th>717</th>\n",
       "      <td>6.985512e-07</td>\n",
       "      <td>0.999999</td>\n",
       "      <td>0.999999</td>\n",
       "      <td>1.0</td>\n",
       "    </tr>\n",
       "    <tr>\n",
       "      <th>718</th>\n",
       "      <td>9.990992e-01</td>\n",
       "      <td>0.000901</td>\n",
       "      <td>0.999099</td>\n",
       "      <td>0.0</td>\n",
       "    </tr>\n",
       "    <tr>\n",
       "      <th>719</th>\n",
       "      <td>8.610110e-01</td>\n",
       "      <td>0.138989</td>\n",
       "      <td>0.861011</td>\n",
       "      <td>0.0</td>\n",
       "    </tr>\n",
       "  </tbody>\n",
       "</table>\n",
       "<p>679 rows × 4 columns</p>\n",
       "</div>"
      ],
      "text/plain": [
       "           class1    class2       max  label\n",
       "0    6.080655e-02  0.939193  0.939193    1.0\n",
       "1    9.984301e-01  0.001570  0.998430    0.0\n",
       "2    9.049883e-01  0.095012  0.904988    0.0\n",
       "3    9.984551e-01  0.001545  0.998455    0.0\n",
       "4    1.732832e-01  0.826717  0.826717    1.0\n",
       "..            ...       ...       ...    ...\n",
       "715  3.397656e-02  0.966023  0.966023    1.0\n",
       "716  2.353276e-01  0.764672  0.764672    1.0\n",
       "717  6.985512e-07  0.999999  0.999999    1.0\n",
       "718  9.990992e-01  0.000901  0.999099    0.0\n",
       "719  8.610110e-01  0.138989  0.861011    0.0\n",
       "\n",
       "[679 rows x 4 columns]"
      ]
     },
     "execution_count": 45,
     "metadata": {},
     "output_type": "execute_result"
    }
   ],
   "source": [
    "th = 0.6\n",
    "clf_prob[clf_prob[\"max\"] > th]"
   ]
  },
  {
   "cell_type": "code",
   "execution_count": 46,
   "id": "double-tribe",
   "metadata": {},
   "outputs": [
    {
     "data": {
      "text/plain": [
       "679"
      ]
     },
     "execution_count": 46,
     "metadata": {},
     "output_type": "execute_result"
    }
   ],
   "source": [
    "pseudo_lab_size =len(X_unl[clf_prob[\"max\"] > th])\n",
    "pseudo_lab_size"
   ]
  },
  {
   "cell_type": "code",
   "execution_count": 47,
   "id": "sapphire-transfer",
   "metadata": {},
   "outputs": [],
   "source": [
    "#add the predicted labels to the training dataset\n",
    "X_train_new = np.append(X_train, X_unl[clf_prob[\"max\"] > th], axis=0)\n",
    "y_train_new = np.append(y_train, clf_prob['label'][clf_prob[\"max\"] > th].values, axis=0)\n",
    "\n",
    "X_train = X_train_new\n",
    "y_train = y_train_new"
   ]
  },
  {
   "cell_type": "code",
   "execution_count": 48,
   "id": "united-criterion",
   "metadata": {},
   "outputs": [],
   "source": [
    "#remove the added labels from the unlabled dataset\n",
    "X_unl_df = X_unl_df.drop(X_unl_df[clf_prob[\"max\"] > th].index).reset_index(drop=True)\n",
    "#update the unlabeled set\n",
    "X_unl = X_unl_df.values\n",
    "# X_unl_df"
   ]
  },
  {
   "cell_type": "markdown",
   "id": "blessed-crown",
   "metadata": {},
   "source": [
    "## 4. Repeat"
   ]
  },
  {
   "cell_type": "code",
   "execution_count": 49,
   "id": "practical-reverse",
   "metadata": {},
   "outputs": [
    {
     "name": "stdout",
     "output_type": "stream",
     "text": [
      "Accuracy:  0.97  error:  0.030000000000000027\n",
      "Accuracy:  0.975  error:  0.025000000000000022\n",
      "Accuracy:  0.975  error:  0.025000000000000022\n"
     ]
    }
   ],
   "source": [
    "score_ls = []\n",
    "while len(X_unl) != 0 and pseudo_lab_size != 0: # stop when there are no more unlabeled data or when we are no confident about the data\n",
    "    #Step 1\n",
    "    clf = svm.SVC(kernel='linear', probability=True,C=1).fit(X_train, y_train)\n",
    "    score_ls.append(clf.score(X_test, y_test))\n",
    "    print ('Accuracy: ',clf.score(X_test, y_test), ' error: ', 1 - clf.score(X_test, y_test) )\n",
    "#     print(len(X_unl))\n",
    "    \n",
    "    #Step2\n",
    "    #find the probability of each class\n",
    "    clp= clf.predict_proba(X_unl)\n",
    "    clf_prob = pd.DataFrame(clp, columns = ['class1', 'class2']) \n",
    "    # predict the the label of each class\n",
    "    lab=clf.predict(X_unl)\n",
    "    clf_prob[\"max\"] = clf_prob.max(axis = 1)\n",
    "    clf_prob[\"label\"] = lab\n",
    "    \n",
    "    #Step3\n",
    "    pseudo_lab_size =len(X_unl[clf_prob[\"max\"] > th])\n",
    "    X_train_new = np.append(X_train, X_unl[clf_prob[\"max\"] > th], axis=0)\n",
    "    y_train_new = np.append(y_train, clf_prob['label'][clf_prob[\"max\"] > th].values, axis=0)\n",
    "    X_train = X_train_new\n",
    "    y_train = y_train_new\n",
    "    \n",
    "    \n",
    "    X_unl_df = X_unl_df.drop(X_unl_df[clf_prob[\"max\"] > th].index).reset_index(drop=True)\n",
    "    X_unl = X_unl_df.values"
   ]
  },
  {
   "cell_type": "markdown",
   "id": "exciting-productivity",
   "metadata": {},
   "source": [
    "## When 10% of the training data is labeled, the error of the self-training algorithm on the testing data with SVM classifier is as follows:\n",
    "1. The first time the classifier is trained using only the labeled -----> accuracy:  0.97  error:  0.030000000000000027\n",
    "2. At least one time point during the self training process -----> accuracy:  0.97  error:  0.030000000000000027\n",
    "3. After self-training is completed -----> accuracy:  0.975  error:  0.025000000000000022\n",
    "\n",
    "From the above results, we can see that there is no significant boost in performance. This confirms the lecture's discussion that SSL is not always going to work or give you a significant boost in performance."
   ]
  },
  {
   "cell_type": "code",
   "execution_count": null,
   "id": "thrown-fabric",
   "metadata": {},
   "outputs": [],
   "source": []
  },
  {
   "cell_type": "markdown",
   "id": "pressing-change",
   "metadata": {},
   "source": [
    "## Part B: 25% of the training data is labeled"
   ]
  },
  {
   "cell_type": "code",
   "execution_count": 50,
   "id": "bizarre-gregory",
   "metadata": {},
   "outputs": [],
   "source": [
    "X_train, X_test, y_train, y_test = train_test_split(X, y, train_size=0.8, random_state=1)\n",
    "#25% of the training data is labeled\n",
    "X_train, X_unl, y_train, _ = train_test_split(X_train, y_train, train_size=0.25, random_state=1)"
   ]
  },
  {
   "cell_type": "code",
   "execution_count": 53,
   "id": "selective-navigator",
   "metadata": {},
   "outputs": [
    {
     "data": {
      "text/plain": [
       "(200, 2)"
      ]
     },
     "execution_count": 53,
     "metadata": {},
     "output_type": "execute_result"
    }
   ],
   "source": [
    "X_train.shape"
   ]
  },
  {
   "cell_type": "code",
   "execution_count": 54,
   "id": "adaptive-bench",
   "metadata": {},
   "outputs": [
    {
     "data": {
      "text/html": [
       "<div>\n",
       "<style scoped>\n",
       "    .dataframe tbody tr th:only-of-type {\n",
       "        vertical-align: middle;\n",
       "    }\n",
       "\n",
       "    .dataframe tbody tr th {\n",
       "        vertical-align: top;\n",
       "    }\n",
       "\n",
       "    .dataframe thead th {\n",
       "        text-align: right;\n",
       "    }\n",
       "</style>\n",
       "<table border=\"1\" class=\"dataframe\">\n",
       "  <thead>\n",
       "    <tr style=\"text-align: right;\">\n",
       "      <th></th>\n",
       "      <th>x1</th>\n",
       "      <th>x2</th>\n",
       "    </tr>\n",
       "  </thead>\n",
       "  <tbody>\n",
       "    <tr>\n",
       "      <th>0</th>\n",
       "      <td>-0.162472</td>\n",
       "      <td>1.843025</td>\n",
       "    </tr>\n",
       "    <tr>\n",
       "      <th>1</th>\n",
       "      <td>-2.202430</td>\n",
       "      <td>-1.832835</td>\n",
       "    </tr>\n",
       "    <tr>\n",
       "      <th>2</th>\n",
       "      <td>-0.392301</td>\n",
       "      <td>-1.230569</td>\n",
       "    </tr>\n",
       "    <tr>\n",
       "      <th>3</th>\n",
       "      <td>-3.410816</td>\n",
       "      <td>-0.358632</td>\n",
       "    </tr>\n",
       "    <tr>\n",
       "      <th>4</th>\n",
       "      <td>-0.495970</td>\n",
       "      <td>1.463370</td>\n",
       "    </tr>\n",
       "    <tr>\n",
       "      <th>...</th>\n",
       "      <td>...</td>\n",
       "      <td>...</td>\n",
       "    </tr>\n",
       "    <tr>\n",
       "      <th>595</th>\n",
       "      <td>0.320025</td>\n",
       "      <td>-0.795005</td>\n",
       "    </tr>\n",
       "    <tr>\n",
       "      <th>596</th>\n",
       "      <td>1.238727</td>\n",
       "      <td>2.093136</td>\n",
       "    </tr>\n",
       "    <tr>\n",
       "      <th>597</th>\n",
       "      <td>-0.269999</td>\n",
       "      <td>0.602040</td>\n",
       "    </tr>\n",
       "    <tr>\n",
       "      <th>598</th>\n",
       "      <td>-1.398507</td>\n",
       "      <td>0.951005</td>\n",
       "    </tr>\n",
       "    <tr>\n",
       "      <th>599</th>\n",
       "      <td>-2.549455</td>\n",
       "      <td>0.151460</td>\n",
       "    </tr>\n",
       "  </tbody>\n",
       "</table>\n",
       "<p>600 rows × 2 columns</p>\n",
       "</div>"
      ],
      "text/plain": [
       "           x1        x2\n",
       "0   -0.162472  1.843025\n",
       "1   -2.202430 -1.832835\n",
       "2   -0.392301 -1.230569\n",
       "3   -3.410816 -0.358632\n",
       "4   -0.495970  1.463370\n",
       "..        ...       ...\n",
       "595  0.320025 -0.795005\n",
       "596  1.238727  2.093136\n",
       "597 -0.269999  0.602040\n",
       "598 -1.398507  0.951005\n",
       "599 -2.549455  0.151460\n",
       "\n",
       "[600 rows x 2 columns]"
      ]
     },
     "execution_count": 54,
     "metadata": {},
     "output_type": "execute_result"
    }
   ],
   "source": [
    "X_unl_df = pd.DataFrame(X_unl, columns=['x1', 'x2'])\n",
    "X_unl_df"
   ]
  },
  {
   "cell_type": "markdown",
   "id": "western-university",
   "metadata": {},
   "source": [
    "## 1. Training on the labeled dataset"
   ]
  },
  {
   "cell_type": "code",
   "execution_count": 55,
   "id": "small-coordinate",
   "metadata": {},
   "outputs": [
    {
     "name": "stdout",
     "output_type": "stream",
     "text": [
      "Accuracy:  0.965  error:  0.03500000000000003\n"
     ]
    }
   ],
   "source": [
    "clf = svm.SVC(kernel='linear', probability=True, C=1.0).fit(X_train, y_train)\n",
    "print ('Accuracy: ',clf.score(X_test, y_test), ' error: ', 1 - clf.score(X_test, y_test) )"
   ]
  },
  {
   "cell_type": "markdown",
   "id": "front-independence",
   "metadata": {},
   "source": [
    "## 2. Make a prediction using the unlabeled datset (x_unl)\n",
    "* ### Using predict_prob() to find the probability of each sample"
   ]
  },
  {
   "cell_type": "code",
   "execution_count": 56,
   "id": "committed-contemporary",
   "metadata": {},
   "outputs": [
    {
     "data": {
      "text/html": [
       "<div>\n",
       "<style scoped>\n",
       "    .dataframe tbody tr th:only-of-type {\n",
       "        vertical-align: middle;\n",
       "    }\n",
       "\n",
       "    .dataframe tbody tr th {\n",
       "        vertical-align: top;\n",
       "    }\n",
       "\n",
       "    .dataframe thead th {\n",
       "        text-align: right;\n",
       "    }\n",
       "</style>\n",
       "<table border=\"1\" class=\"dataframe\">\n",
       "  <thead>\n",
       "    <tr style=\"text-align: right;\">\n",
       "      <th></th>\n",
       "      <th>class1</th>\n",
       "      <th>class2</th>\n",
       "      <th>max</th>\n",
       "      <th>label</th>\n",
       "    </tr>\n",
       "  </thead>\n",
       "  <tbody>\n",
       "    <tr>\n",
       "      <th>0</th>\n",
       "      <td>0.029395</td>\n",
       "      <td>0.970605</td>\n",
       "      <td>0.970605</td>\n",
       "      <td>1.0</td>\n",
       "    </tr>\n",
       "    <tr>\n",
       "      <th>1</th>\n",
       "      <td>0.999555</td>\n",
       "      <td>0.000445</td>\n",
       "      <td>0.999555</td>\n",
       "      <td>0.0</td>\n",
       "    </tr>\n",
       "    <tr>\n",
       "      <th>2</th>\n",
       "      <td>0.931709</td>\n",
       "      <td>0.068291</td>\n",
       "      <td>0.931709</td>\n",
       "      <td>0.0</td>\n",
       "    </tr>\n",
       "    <tr>\n",
       "      <th>3</th>\n",
       "      <td>0.999550</td>\n",
       "      <td>0.000450</td>\n",
       "      <td>0.999550</td>\n",
       "      <td>0.0</td>\n",
       "    </tr>\n",
       "    <tr>\n",
       "      <th>4</th>\n",
       "      <td>0.112255</td>\n",
       "      <td>0.887745</td>\n",
       "      <td>0.887745</td>\n",
       "      <td>1.0</td>\n",
       "    </tr>\n",
       "    <tr>\n",
       "      <th>...</th>\n",
       "      <td>...</td>\n",
       "      <td>...</td>\n",
       "      <td>...</td>\n",
       "      <td>...</td>\n",
       "    </tr>\n",
       "    <tr>\n",
       "      <th>595</th>\n",
       "      <td>0.560227</td>\n",
       "      <td>0.439773</td>\n",
       "      <td>0.560227</td>\n",
       "      <td>0.0</td>\n",
       "    </tr>\n",
       "    <tr>\n",
       "      <th>596</th>\n",
       "      <td>0.000002</td>\n",
       "      <td>0.999998</td>\n",
       "      <td>0.999998</td>\n",
       "      <td>1.0</td>\n",
       "    </tr>\n",
       "    <tr>\n",
       "      <th>597</th>\n",
       "      <td>0.269522</td>\n",
       "      <td>0.730478</td>\n",
       "      <td>0.730478</td>\n",
       "      <td>1.0</td>\n",
       "    </tr>\n",
       "    <tr>\n",
       "      <th>598</th>\n",
       "      <td>0.703817</td>\n",
       "      <td>0.296183</td>\n",
       "      <td>0.703817</td>\n",
       "      <td>0.0</td>\n",
       "    </tr>\n",
       "    <tr>\n",
       "      <th>599</th>\n",
       "      <td>0.992334</td>\n",
       "      <td>0.007666</td>\n",
       "      <td>0.992334</td>\n",
       "      <td>0.0</td>\n",
       "    </tr>\n",
       "  </tbody>\n",
       "</table>\n",
       "<p>600 rows × 4 columns</p>\n",
       "</div>"
      ],
      "text/plain": [
       "       class1    class2       max  label\n",
       "0    0.029395  0.970605  0.970605    1.0\n",
       "1    0.999555  0.000445  0.999555    0.0\n",
       "2    0.931709  0.068291  0.931709    0.0\n",
       "3    0.999550  0.000450  0.999550    0.0\n",
       "4    0.112255  0.887745  0.887745    1.0\n",
       "..        ...       ...       ...    ...\n",
       "595  0.560227  0.439773  0.560227    0.0\n",
       "596  0.000002  0.999998  0.999998    1.0\n",
       "597  0.269522  0.730478  0.730478    1.0\n",
       "598  0.703817  0.296183  0.703817    0.0\n",
       "599  0.992334  0.007666  0.992334    0.0\n",
       "\n",
       "[600 rows x 4 columns]"
      ]
     },
     "execution_count": 56,
     "metadata": {},
     "output_type": "execute_result"
    }
   ],
   "source": [
    "#find the probability of each class\n",
    "clp= clf.predict_proba(X_unl)\n",
    "clf_prob = pd.DataFrame(clp, columns = ['class1', 'class2']) \n",
    "# predict the the label of each class\n",
    "lab=clf.predict(X_unl)\n",
    "#find the max probability \n",
    "clf_prob[\"max\"] = clf_prob.max(axis = 1)\n",
    "clf_prob[\"label\"] = lab\n",
    "clf_prob"
   ]
  },
  {
   "cell_type": "markdown",
   "id": "criminal-dominican",
   "metadata": {},
   "source": [
    "## 3. Choose the samples in X_unl with high confidence and add them into the labeled dataset "
   ]
  },
  {
   "cell_type": "code",
   "execution_count": 57,
   "id": "supported-jewel",
   "metadata": {},
   "outputs": [
    {
     "data": {
      "text/html": [
       "<div>\n",
       "<style scoped>\n",
       "    .dataframe tbody tr th:only-of-type {\n",
       "        vertical-align: middle;\n",
       "    }\n",
       "\n",
       "    .dataframe tbody tr th {\n",
       "        vertical-align: top;\n",
       "    }\n",
       "\n",
       "    .dataframe thead th {\n",
       "        text-align: right;\n",
       "    }\n",
       "</style>\n",
       "<table border=\"1\" class=\"dataframe\">\n",
       "  <thead>\n",
       "    <tr style=\"text-align: right;\">\n",
       "      <th></th>\n",
       "      <th>class1</th>\n",
       "      <th>class2</th>\n",
       "      <th>max</th>\n",
       "      <th>label</th>\n",
       "    </tr>\n",
       "  </thead>\n",
       "  <tbody>\n",
       "    <tr>\n",
       "      <th>0</th>\n",
       "      <td>0.029395</td>\n",
       "      <td>0.970605</td>\n",
       "      <td>0.970605</td>\n",
       "      <td>1.0</td>\n",
       "    </tr>\n",
       "    <tr>\n",
       "      <th>1</th>\n",
       "      <td>0.999555</td>\n",
       "      <td>0.000445</td>\n",
       "      <td>0.999555</td>\n",
       "      <td>0.0</td>\n",
       "    </tr>\n",
       "    <tr>\n",
       "      <th>2</th>\n",
       "      <td>0.931709</td>\n",
       "      <td>0.068291</td>\n",
       "      <td>0.931709</td>\n",
       "      <td>0.0</td>\n",
       "    </tr>\n",
       "    <tr>\n",
       "      <th>3</th>\n",
       "      <td>0.999550</td>\n",
       "      <td>0.000450</td>\n",
       "      <td>0.999550</td>\n",
       "      <td>0.0</td>\n",
       "    </tr>\n",
       "    <tr>\n",
       "      <th>4</th>\n",
       "      <td>0.112255</td>\n",
       "      <td>0.887745</td>\n",
       "      <td>0.887745</td>\n",
       "      <td>1.0</td>\n",
       "    </tr>\n",
       "    <tr>\n",
       "      <th>...</th>\n",
       "      <td>...</td>\n",
       "      <td>...</td>\n",
       "      <td>...</td>\n",
       "      <td>...</td>\n",
       "    </tr>\n",
       "    <tr>\n",
       "      <th>594</th>\n",
       "      <td>0.005475</td>\n",
       "      <td>0.994525</td>\n",
       "      <td>0.994525</td>\n",
       "      <td>1.0</td>\n",
       "    </tr>\n",
       "    <tr>\n",
       "      <th>596</th>\n",
       "      <td>0.000002</td>\n",
       "      <td>0.999998</td>\n",
       "      <td>0.999998</td>\n",
       "      <td>1.0</td>\n",
       "    </tr>\n",
       "    <tr>\n",
       "      <th>597</th>\n",
       "      <td>0.269522</td>\n",
       "      <td>0.730478</td>\n",
       "      <td>0.730478</td>\n",
       "      <td>1.0</td>\n",
       "    </tr>\n",
       "    <tr>\n",
       "      <th>598</th>\n",
       "      <td>0.703817</td>\n",
       "      <td>0.296183</td>\n",
       "      <td>0.703817</td>\n",
       "      <td>0.0</td>\n",
       "    </tr>\n",
       "    <tr>\n",
       "      <th>599</th>\n",
       "      <td>0.992334</td>\n",
       "      <td>0.007666</td>\n",
       "      <td>0.992334</td>\n",
       "      <td>0.0</td>\n",
       "    </tr>\n",
       "  </tbody>\n",
       "</table>\n",
       "<p>569 rows × 4 columns</p>\n",
       "</div>"
      ],
      "text/plain": [
       "       class1    class2       max  label\n",
       "0    0.029395  0.970605  0.970605    1.0\n",
       "1    0.999555  0.000445  0.999555    0.0\n",
       "2    0.931709  0.068291  0.931709    0.0\n",
       "3    0.999550  0.000450  0.999550    0.0\n",
       "4    0.112255  0.887745  0.887745    1.0\n",
       "..        ...       ...       ...    ...\n",
       "594  0.005475  0.994525  0.994525    1.0\n",
       "596  0.000002  0.999998  0.999998    1.0\n",
       "597  0.269522  0.730478  0.730478    1.0\n",
       "598  0.703817  0.296183  0.703817    0.0\n",
       "599  0.992334  0.007666  0.992334    0.0\n",
       "\n",
       "[569 rows x 4 columns]"
      ]
     },
     "execution_count": 57,
     "metadata": {},
     "output_type": "execute_result"
    }
   ],
   "source": [
    "th = 0.6\n",
    "clf_prob[clf_prob[\"max\"] > th]"
   ]
  },
  {
   "cell_type": "code",
   "execution_count": 58,
   "id": "civic-present",
   "metadata": {},
   "outputs": [],
   "source": [
    "pseudo_lab_size =len(X_unl[clf_prob[\"max\"] > th])\n",
    "#add the predicted labels to the training dataset\n",
    "X_train_new = np.append(X_train, X_unl[clf_prob[\"max\"] > th], axis=0)\n",
    "y_train_new = np.append(y_train, clf_prob['label'][clf_prob[\"max\"] > th].values, axis=0)\n",
    "\n",
    "X_train = X_train_new\n",
    "y_train = y_train_new\n",
    "#remove the added labels from the unlabled dataset\n",
    "X_unl_df = X_unl_df.drop(X_unl_df[clf_prob[\"max\"] > th].index).reset_index(drop=True)\n",
    "#update the unlabeled set\n",
    "X_unl = X_unl_df.values\n",
    "# X_unl_df"
   ]
  },
  {
   "cell_type": "markdown",
   "id": "north-asthma",
   "metadata": {},
   "source": [
    "## 4. Repeat"
   ]
  },
  {
   "cell_type": "code",
   "execution_count": 59,
   "id": "nasty-messaging",
   "metadata": {},
   "outputs": [
    {
     "name": "stdout",
     "output_type": "stream",
     "text": [
      "Accuracy:  0.97  error:  0.030000000000000027\n",
      "Accuracy:  0.975  error:  0.025000000000000022\n",
      "Accuracy:  0.975  error:  0.025000000000000022\n"
     ]
    }
   ],
   "source": [
    "score_ls = []\n",
    "while len(X_unl) != 0 and pseudo_lab_size != 0: # stop when there are no more unlabeled data or when we are no confident about the data\n",
    "    #Step 1\n",
    "    clf = svm.SVC(kernel='linear', probability=True,C=1).fit(X_train, y_train)\n",
    "    score_ls.append(clf.score(X_test, y_test))\n",
    "    print ('Accuracy: ',clf.score(X_test, y_test), ' error: ', 1 - clf.score(X_test, y_test) )\n",
    "#     print(len(X_unl))\n",
    "    \n",
    "    #Step2\n",
    "    #find the probability of each class\n",
    "    clp= clf.predict_proba(X_unl)\n",
    "    clf_prob = pd.DataFrame(clp, columns = ['class1', 'class2']) \n",
    "    # predict the the label of each class\n",
    "    lab=clf.predict(X_unl)\n",
    "    clf_prob[\"max\"] = clf_prob.max(axis = 1)\n",
    "    clf_prob[\"label\"] = lab\n",
    "    \n",
    "    #Step3\n",
    "    pseudo_lab_size =len(X_unl[clf_prob[\"max\"] > th])\n",
    "    X_train_new = np.append(X_train, X_unl[clf_prob[\"max\"] > th], axis=0)\n",
    "    y_train_new = np.append(y_train, clf_prob['label'][clf_prob[\"max\"] > th].values, axis=0)\n",
    "    X_train = X_train_new\n",
    "    y_train = y_train_new\n",
    "    \n",
    "    \n",
    "    X_unl_df = X_unl_df.drop(X_unl_df[clf_prob[\"max\"] > th].index).reset_index(drop=True)\n",
    "    X_unl = X_unl_df.values"
   ]
  },
  {
   "cell_type": "markdown",
   "id": "harmful-landscape",
   "metadata": {},
   "source": [
    "### When 25% of the training data is labeled, the error of the self-training algorithm on the testing data with SVM classifier is as follows:¶\n",
    "1. The first time the classifier is trained using only the labeled -----> accuracy: 0.965  error:  0.03500000000000003\n",
    "2. At least one time point during the self training process -----> accuracy:  0.97  error:  0.030000000000000027\n",
    "3. After self-training is completed -----> accuracy: 0.975  error:  0.025000000000000022\n",
    "From the above results, we can see similar trend to the previous results. That is there is no significant boost in performance."
   ]
  }
 ],
 "metadata": {
  "kernelspec": {
   "display_name": "Python 3",
   "language": "python",
   "name": "python3"
  },
  "language_info": {
   "codemirror_mode": {
    "name": "ipython",
    "version": 3
   },
   "file_extension": ".py",
   "mimetype": "text/x-python",
   "name": "python",
   "nbconvert_exporter": "python",
   "pygments_lexer": "ipython3",
   "version": "3.8.6"
  }
 },
 "nbformat": 4,
 "nbformat_minor": 5
}
